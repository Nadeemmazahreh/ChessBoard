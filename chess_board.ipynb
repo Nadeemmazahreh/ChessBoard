{
 "cells": [
  {
   "cell_type": "code",
   "execution_count": 66,
   "source": [
    "import numpy as np\n",
    "import matplotlib.pyplot as plt"
   ],
   "outputs": [],
   "metadata": {}
  },
  {
   "cell_type": "code",
   "execution_count": 67,
   "source": [
    "class ChessBoard:\n",
    "    def __init__(self):\n",
    "        self.grid = np.zeros((8,8,3))\n",
    "        self.black = (0,0,0)\n",
    "        self.white = (1,1,1)\n",
    "        self.blue = (0,1,1)\n",
    "        self.red = (1,.2,0)\n",
    "    \n",
    "        for col in range(8):\n",
    "            for row in range(8):\n",
    "                if col % 2 == 0 and row % 2 == 0 or col % 2 == 1 and row % 2 == 1:\n",
    "                    self.grid[col,row] = self.black\n",
    "                else:\n",
    "                    self.grid[col,row] = self.white\n",
    "\n",
    "\n",
    "    def add_red(self,col,row):\n",
    "        self.redrow = row\n",
    "        self.redcolomn = col\n",
    "        self.grid[col,row] = self.red\n",
    "\n",
    "    def add_blue(self,col,row):\n",
    "        self.bluerow = row\n",
    "        self.bluecolomn = col\n",
    "        self.grid[col,row] = self.blue\n",
    "\n",
    "    def render(self):\n",
    "        plt.imshow(self.grid)\n",
    "        \n",
    "    def is_under_attack(self):\n",
    "        if self.redrow == self.bluerow or self.redcolomn == self.bluecolomn or (self.redcolomn + self.redrow == self.bluecolomn + self.bluerow):\n",
    "            return True\n",
    "        \n",
    "        else: \n",
    "            return False\n",
    "        \n",
    "\n"
   ],
   "outputs": [],
   "metadata": {}
  },
  {
   "cell_type": "code",
   "execution_count": 68,
   "source": [
    "grid = ChessBoard()\n",
    "grid.add_red(3,5)\n",
    "grid.add_blue(5,4)\n",
    "print(grid.is_under_attack())\n",
    "grid.render()\n"
   ],
   "outputs": [
    {
     "output_type": "stream",
     "name": "stdout",
     "text": [
      "False\n"
     ]
    },
    {
     "output_type": "display_data",
     "data": {
      "text/plain": [
       "<Figure size 432x288 with 1 Axes>"
      ],
      "image/png": "[encoded data removed]"
     },
     "metadata": {
      "needs_background": "light"
     }
    }
   ],
   "metadata": {}
  },
  {
   "cell_type": "code",
   "execution_count": 69,
   "source": [
    "grid = ChessBoard()\n",
    "grid.add_red(3,1)\n",
    "grid.add_blue(3,7)\n",
    "grid.render()\n",
    "\n",
    "## actual\n",
    "actual = grid.is_under_attack()\n",
    "\n",
    "## expect\n",
    "expect = True\n",
    "\n",
    "## assert\n",
    "assert actual == expect\n",
    "\n",
    "\n"
   ],
   "outputs": [
    {
     "output_type": "display_data",
     "data": {
      "text/plain": [
       "<Figure size 432x288 with 1 Axes>"
      ],
      "image/png": "[encoded data removed]"
     },
     "metadata": {
      "needs_background": "light"
     }
    }
   ],
   "metadata": {}
  }
 ],
 "metadata": {
  "orig_nbformat": 4,
  "language_info": {
   "name": "python",
   "version": "3.9.6",
   "mimetype": "text/x-python",
   "codemirror_mode": {
    "name": "ipython",
    "version": 3
   },
   "pygments_lexer": "ipython3",
   "nbconvert_exporter": "python",
   "file_extension": ".py"
  },
  "kernelspec": {
   "name": "python3",
   "display_name": "Python 3.9.6 64-bit ('.venv': poetry)"
  },
  "interpreter": {
   "hash": "6113c38716ba53e6e6c3705a77d8cad60da0e488a9df928d936ffd40629eae58"
  }
 },
 "nbformat": 4,
 "nbformat_minor": 2
}